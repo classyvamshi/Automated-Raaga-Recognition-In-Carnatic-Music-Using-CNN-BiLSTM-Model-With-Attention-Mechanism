{
 "cells": [
  {
   "cell_type": "markdown",
   "id": "5101b930-896b-47fa-9aa8-dfd02ef853d5",
   "metadata": {},
   "source": [
    "# Testing For Corrupted Features"
   ]
  },
  {
   "cell_type": "code",
   "execution_count": null,
   "id": "50bd7819-3de0-4f34-8ff9-196032749b6a",
   "metadata": {},
   "outputs": [],
   "source": [
    "import os\n",
    "import numpy as np\n",
    "import shutil\n",
    "\n",
    "# === Paths ===\n",
    "INPUT_DIR = r\"C:\\College\\Subjects\\Sem 6\\Speech Processing\\Project\\Dataset\\Features\"\n",
    "BAD_FEATURES_DIR = r\"C:\\College\\Subjects\\Sem 6\\Speech Processing\\Project\\Dataset\\Corrupted_Features\"\n",
    "os.makedirs(BAD_FEATURES_DIR, exist_ok=True)\n",
    "\n",
    "# === Step 1: Detect corrupted files ===\n",
    "corrupted_files = []\n",
    "\n",
    "for raaga_folder in os.listdir(INPUT_DIR):\n",
    "    raaga_path = os.path.join(INPUT_DIR, raaga_folder)\n",
    "    if not os.path.isdir(raaga_path):\n",
    "        continue\n",
    "\n",
    "    for file in os.listdir(raaga_path):\n",
    "        if file.endswith(\".npy\"):\n",
    "            file_path = os.path.join(raaga_path, file)\n",
    "            try:\n",
    "                data = np.load(file_path)\n",
    "\n",
    "                # Check for NaN, Inf, or non-finite values\n",
    "                if np.isnan(data).any() or np.isinf(data).any() or not np.all(np.isfinite(data)):\n",
    "                    print(f\" Corrupted: {file_path}\")\n",
    "                    corrupted_files.append(file_path)\n",
    "\n",
    "            except Exception as e:\n",
    "                print(f\" Could not read {file_path}: {e}\")\n",
    "                corrupted_files.append(file_path)\n",
    "\n",
    "print(f\"\\n Scan complete. Total corrupted files: {len(corrupted_files)}\")\n",
    "\n",
    "# === Step 2: Move corrupted files to a separate folder ===\n",
    "for file_path in corrupted_files:\n",
    "    file_name = os.path.basename(file_path)\n",
    "    raaga_name = os.path.basename(os.path.dirname(file_path))\n",
    "\n",
    "    target_subfolder = os.path.join(BAD_FEATURES_DIR, raaga_name)\n",
    "    os.makedirs(target_subfolder, exist_ok=True)\n",
    "\n",
    "    # Move the corrupted file\n",
    "    shutil.move(file_path, os.path.join(target_subfolder, file_name))\n",
    "    print(f\" Moved: {file_name} → {target_subfolder}\")\n"
   ]
  },
  {
   "cell_type": "markdown",
   "id": "ceed486e-6adf-4b5e-9e5a-c3ffe02e93d1",
   "metadata": {},
   "source": [
    "# Dataset Spilt"
   ]
  },
  {
   "cell_type": "code",
   "execution_count": null,
   "id": "b6d0cb80-800b-43d6-8555-5affad127b3b",
   "metadata": {},
   "outputs": [],
   "source": [
    "import os\n",
    "import shutil\n",
    "import numpy as np\n",
    "from sklearn.model_selection import train_test_split"
   ]
  },
  {
   "cell_type": "code",
   "execution_count": null,
   "id": "b0430f6b-e228-4f0b-a6f3-a26e9bebda4c",
   "metadata": {},
   "outputs": [],
   "source": [
    "\n",
    "\n",
    "# === Paths ===\n",
    "INPUT_DIR = r\"C:\\College\\Subjects\\Sem 6\\Speech Processing\\Project\\Dataset\\Features\"\n",
    "OUTPUT_BASE = r\"C:\\College\\Subjects\\Sem 6\\Speech Processing\\Project\\Dataset\\Split\"\n",
    "TRAIN_DIR = os.path.join(OUTPUT_BASE, \"train\")\n",
    "VAL_DIR = os.path.join(OUTPUT_BASE, \"val\")\n",
    "TEST_DIR = os.path.join(OUTPUT_BASE, \"test\")\n",
    "\n",
    "# === Create output folders ===\n",
    "for folder in [TRAIN_DIR, VAL_DIR, TEST_DIR]:\n",
    "    os.makedirs(folder, exist_ok=True)\n",
    "\n",
    "# === Collect all feature files and their labels ===\n",
    "data = []\n",
    "\n",
    "for raga in sorted(os.listdir(INPUT_DIR)):\n",
    "    raga_path = os.path.join(INPUT_DIR, raga)\n",
    "    if not os.path.isdir(raga_path):\n",
    "        continue\n",
    "\n",
    "    for fname in os.listdir(raga_path):\n",
    "        if fname.endswith(\".npy\"):\n",
    "            fpath = os.path.join(raga_path, fname)\n",
    "            is_augmented = any(x in fname for x in [\"pitch\", \"noise\", \"stretch\"])\n",
    "            data.append((fpath, raga, is_augmented))\n",
    "\n",
    "# === Separate original and augmented ===\n",
    "original_data = [(f, r) for f, r, is_aug in data if not is_aug]\n",
    "augmented_data = [(f, r) for f, r, is_aug in data if is_aug]\n",
    "\n",
    "# === Stratified split of original data ===\n",
    "file_paths = [f for f, r in original_data]\n",
    "labels = [r for f, r in original_data]\n",
    "\n",
    "X_trainval, X_test, y_trainval, y_test = train_test_split(file_paths, labels, test_size=0.2, stratify=labels, random_state=42)\n",
    "X_train, X_val, y_train, y_val = train_test_split(X_trainval, y_trainval, test_size=0.2, stratify=y_trainval, random_state=42)\n",
    "\n",
    "# === Utility: copy files to split folders ===\n",
    "def copy_files(file_list, labels, target_dir):\n",
    "    for src, raga in zip(file_list, labels):\n",
    "        dest_dir = os.path.join(target_dir, raga)\n",
    "        os.makedirs(dest_dir, exist_ok=True)\n",
    "        shutil.copy(src, os.path.join(dest_dir, os.path.basename(src)))\n",
    "\n",
    "# === Copy files ===\n",
    "copy_files(X_train, y_train, TRAIN_DIR)\n",
    "copy_files(X_val, y_val, VAL_DIR)\n",
    "copy_files(X_test, y_test, TEST_DIR)\n",
    "\n",
    "# === Optionally: Add augmented data to train only ===\n",
    "for fpath, raga in augmented_data:\n",
    "    dest_dir = os.path.join(TRAIN_DIR, raga)\n",
    "    os.makedirs(dest_dir, exist_ok=True)\n",
    "    shutil.copy(fpath, os.path.join(dest_dir, os.path.basename(fpath)))\n",
    "\n",
    "print(\"\\n Dataset split complete:\")\n",
    "print(f\" - Train: {len(os.listdir(TRAIN_DIR))} rāgas\")\n",
    "print(f\" - Val:   {len(os.listdir(VAL_DIR))} rāgas\")\n",
    "print(f\" - Test:  {len(os.listdir(TEST_DIR))} rāgas\")\n"
   ]
  },
  {
   "cell_type": "code",
   "execution_count": null,
   "id": "a50e1598-8329-4038-8e9b-ee625aaf4453",
   "metadata": {},
   "outputs": [],
   "source": [
    "import os\n",
    "\n",
    "# Function to count files in a directory (including subdirectories)\n",
    "def count_files_in_directory(directory):\n",
    "    total_files = 0\n",
    "    for root, dirs, files in os.walk(directory):\n",
    "        total_files += len(files)\n",
    "    return total_files\n",
    "\n",
    "# Count the files in train, val, and test directories\n",
    "train_files_count = count_files_in_directory(TRAIN_DIR)\n",
    "val_files_count = count_files_in_directory(VAL_DIR)\n",
    "test_files_count = count_files_in_directory(TEST_DIR)\n",
    "\n",
    "print(f\"Number of files in Train directory: {train_files_count}\")\n",
    "print(f\"Number of files in Val directory: {val_files_count}\")\n",
    "print(f\"Number of files in Test directory: {test_files_count}\")\n"
   ]
  },
  {
   "cell_type": "code",
   "execution_count": null,
   "id": "6b82bb1b-8f67-4a1d-9f1b-33c9cd13f0fd",
   "metadata": {},
   "outputs": [],
   "source": [
    "Load Features"
   ]
  },
  {
   "cell_type": "code",
   "execution_count": 1,
   "id": "d0376f59-034d-4a52-b04d-6767849a1d41",
   "metadata": {},
   "outputs": [],
   "source": [
    "import numpy as np\n",
    "import os\n",
    "\n",
    "# Function to load features and labels from a folder\n",
    "def load_data_from_directory(split_dir):\n",
    "    X = []\n",
    "    y = []\n",
    "    class_names = sorted(os.listdir(split_dir))  # Assumes each subdir is a class\n",
    "    label_map = {name: idx for idx, name in enumerate(class_names)}\n",
    "\n",
    "    for raga in class_names:\n",
    "        raga_dir = os.path.join(split_dir, raga)\n",
    "        if not os.path.isdir(raga_dir):\n",
    "            continue\n",
    "        for fname in os.listdir(raga_dir):\n",
    "            if fname.endswith('.npy'):\n",
    "                fpath = os.path.join(raga_dir, fname)\n",
    "                features = np.load(fpath)\n",
    "                X.append(features)\n",
    "                y.append(label_map[raga])\n",
    "\n",
    "    return np.array(X), np.array(y), class_names\n"
   ]
  },
  {
   "cell_type": "code",
   "execution_count": 3,
   "id": "bdc120d6-9c2c-4d8f-8b58-d9d597c4b81d",
   "metadata": {},
   "outputs": [],
   "source": [
    "TRAIN_DIR = r\"C:\\College\\Subjects\\Sem 6\\Speech Processing\\Project\\Dataset\\Split\\train\"\n",
    "VAL_DIR   = r\"C:\\College\\Subjects\\Sem 6\\Speech Processing\\Project\\Dataset\\Split\\val\"\n",
    "TEST_DIR  = r\"C:\\College\\Subjects\\Sem 6\\Speech Processing\\Project\\Dataset\\Split\\test\"\n",
    "\n",
    "X_train, y_train, class_names = load_data_from_directory(TRAIN_DIR)\n",
    "X_val, y_val, _ = load_data_from_directory(VAL_DIR)\n",
    "X_test, y_test, _ = load_data_from_directory(TEST_DIR)\n"
   ]
  },
  {
   "cell_type": "markdown",
   "id": "533896e5-b7cf-444a-89c6-cbffe2fe231c",
   "metadata": {},
   "source": [
    "# One-hot Encode the Labels"
   ]
  },
  {
   "cell_type": "code",
   "execution_count": 6,
   "id": "160ada32-72dc-49ea-99ea-fd67d35c49c6",
   "metadata": {},
   "outputs": [],
   "source": [
    "from tensorflow.keras.utils import to_categorical\n",
    "\n",
    "num_classes = len(class_names)\n",
    "y_train_cat = to_categorical(y_train, num_classes)\n",
    "y_val_cat = to_categorical(y_val, num_classes)\n",
    "y_test_cat = to_categorical(y_test, num_classes)\n"
   ]
  },
  {
   "cell_type": "code",
   "execution_count": 8,
   "id": "bcfe769d-eab9-426d-b881-9a44a6cdb13c",
   "metadata": {},
   "outputs": [
    {
     "name": "stdout",
     "output_type": "stream",
     "text": [
      "X_train: (21264, 1001, 3), y_train: (21264, 10)\n",
      "X_val:   (904, 1001, 3), y_val:   (904, 10)\n",
      "X_test:  (1130, 1001, 3), y_test:  (1130, 10)\n"
     ]
    }
   ],
   "source": [
    "print(f\"X_train: {X_train.shape}, y_train: {y_train_cat.shape}\")\n",
    "print(f\"X_val:   {X_val.shape}, y_val:   {y_val_cat.shape}\")\n",
    "print(f\"X_test:  {X_test.shape}, y_test:  {y_test_cat.shape}\")\n"
   ]
  },
  {
   "cell_type": "markdown",
   "id": "50ab2092-1e7d-4749-be88-5bf88f5647b4",
   "metadata": {},
   "source": [
    "# Model"
   ]
  },
  {
   "cell_type": "code",
   "execution_count": 10,
   "id": "cfbeaa33-e181-4d1b-b11b-44c1a22fc936",
   "metadata": {},
   "outputs": [
    {
     "name": "stdout",
     "output_type": "stream",
     "text": [
      "Model: \"model\"\n",
      "__________________________________________________________________________________________________\n",
      " Layer (type)                   Output Shape         Param #     Connected to                     \n",
      "==================================================================================================\n",
      " input_1 (InputLayer)           [(None, 1001, 3)]    0           []                               \n",
      "                                                                                                  \n",
      " masking (Masking)              (None, 1001, 3)      0           ['input_1[0][0]']                \n",
      "                                                                                                  \n",
      " conv1d (Conv1D)                (None, 1001, 64)     1024        ['masking[0][0]']                \n",
      "                                                                                                  \n",
      " batch_normalization (BatchNorm  (None, 1001, 64)    256         ['conv1d[0][0]']                 \n",
      " alization)                                                                                       \n",
      "                                                                                                  \n",
      " re_lu (ReLU)                   (None, 1001, 64)     0           ['batch_normalization[0][0]']    \n",
      "                                                                                                  \n",
      " max_pooling1d (MaxPooling1D)   (None, 500, 64)      0           ['re_lu[0][0]']                  \n",
      "                                                                                                  \n",
      " bidirectional (Bidirectional)  (None, 500, 256)     197632      ['max_pooling1d[0][0]']          \n",
      "                                                                                                  \n",
      " dense (Dense)                  (None, 500, 1)       257         ['bidirectional[0][0]']          \n",
      "                                                                                                  \n",
      " softmax (Softmax)              (None, 500, 1)       0           ['dense[0][0]']                  \n",
      "                                                                                                  \n",
      " multiply (Multiply)            (None, 500, 256)     0           ['bidirectional[0][0]',          \n",
      "                                                                  'softmax[0][0]']                \n",
      "                                                                                                  \n",
      " lambda (Lambda)                (None, 256)          0           ['multiply[0][0]']               \n",
      "                                                                                                  \n",
      " dense_1 (Dense)                (None, 64)           16448       ['lambda[0][0]']                 \n",
      "                                                                                                  \n",
      " dropout (Dropout)              (None, 64)           0           ['dense_1[0][0]']                \n",
      "                                                                                                  \n",
      " dense_2 (Dense)                (None, 10)           650         ['dropout[0][0]']                \n",
      "                                                                                                  \n",
      "==================================================================================================\n",
      "Total params: 216,267\n",
      "Trainable params: 216,139\n",
      "Non-trainable params: 128\n",
      "__________________________________________________________________________________________________\n"
     ]
    }
   ],
   "source": [
    "from tensorflow.keras.models import Model\n",
    "from tensorflow.keras.layers import Input, Conv1D, BatchNormalization, ReLU, MaxPooling1D, Dropout\n",
    "from tensorflow.keras.layers import Bidirectional, LSTM, Dense, Masking, Multiply, Softmax, Permute, Lambda\n",
    "from tensorflow.keras.optimizers import Adam\n",
    "import tensorflow.keras.backend as K\n",
    "import tensorflow as tf\n",
    "\n",
    "# === Custom Attention Layer ===\n",
    "from tensorflow.keras.layers import Lambda\n",
    "\n",
    "def attention_block(inputs):\n",
    "    attention_scores = Dense(1, activation='tanh')(inputs)          # (batch, time, 1)\n",
    "    attention_scores = Softmax(axis=1)(attention_scores)            # (batch, time, 1)\n",
    "    weighted = Multiply()([inputs, attention_scores])               # Element-wise multiplication\n",
    "    context_vector = Lambda(lambda x: tf.reduce_sum(x, axis=1))(weighted)  #  Wrapped as a Keras layer\n",
    "    return context_vector\n",
    "\n",
    "\n",
    "# === Build the Model ===\n",
    "def build_raga_model(input_shape=(1001, 3), num_classes=10):\n",
    "    inputs = Input(shape=input_shape)\n",
    "    \n",
    "    # Mask padded values (if you pad shorter sequences)\n",
    "    x = Masking(mask_value=0.0)(inputs)\n",
    "\n",
    "    # CNN Block\n",
    "    x = Conv1D(64, kernel_size=5, padding='same')(x)\n",
    "    x = BatchNormalization()(x)\n",
    "    x = ReLU()(x)\n",
    "    x = MaxPooling1D(pool_size=2)(x)\n",
    "\n",
    "    # BiLSTM Block\n",
    "    x = Bidirectional(LSTM(128, return_sequences=True))(x)\n",
    "\n",
    "    # Attention Block\n",
    "    x = attention_block(x)\n",
    "\n",
    "    # Classification Head\n",
    "    x = Dense(64, activation='relu')(x)\n",
    "    x = Dropout(0.3)(x)\n",
    "    outputs = Dense(num_classes, activation='softmax')(x)\n",
    "\n",
    "    model = Model(inputs, outputs)\n",
    "    return model\n",
    "\n",
    "# === Compile the Model ===\n",
    "model = build_raga_model()\n",
    "model.compile(optimizer=Adam(learning_rate=0.001), loss='categorical_crossentropy', metrics=['accuracy'])\n",
    "\n",
    "# === Summary ===\n",
    "model.summary()\n"
   ]
  },
  {
   "cell_type": "code",
   "execution_count": 14,
   "id": "f4e6442a-0d4d-4918-bce4-7a8a9ea707e4",
   "metadata": {},
   "outputs": [
    {
     "name": "stdout",
     "output_type": "stream",
     "text": [
      "Epoch 1/100\n",
      "665/665 [==============================] - ETA: 0s - loss: 2.1554 - accuracy: 0.1971\n",
      "Epoch 1: val_accuracy improved from -inf to 0.31416, saving model to C:\\College\\Subjects\\Sem 6\\Speech Processing\\Project\\Check\n"
     ]
    },
    {
     "name": "stderr",
     "output_type": "stream",
     "text": [
      "WARNING:absl:Found untraced functions such as _jit_compiled_convolution_op, lstm_cell_1_layer_call_fn, lstm_cell_1_layer_call_and_return_conditional_losses, lstm_cell_2_layer_call_fn, lstm_cell_2_layer_call_and_return_conditional_losses while saving (showing 5 of 5). These functions will not be directly callable after loading.\n"
     ]
    },
    {
     "name": "stdout",
     "output_type": "stream",
     "text": [
      "INFO:tensorflow:Assets written to: C:\\College\\Subjects\\Sem 6\\Speech Processing\\Project\\Check\\assets\n"
     ]
    },
    {
     "name": "stderr",
     "output_type": "stream",
     "text": [
      "INFO:tensorflow:Assets written to: C:\\College\\Subjects\\Sem 6\\Speech Processing\\Project\\Check\\assets\n"
     ]
    },
    {
     "name": "stdout",
     "output_type": "stream",
     "text": [
      "665/665 [==============================] - 155s 217ms/step - loss: 2.1554 - accuracy: 0.1971 - val_loss: 1.9203 - val_accuracy: 0.3142\n",
      "Epoch 2/100\n",
      "665/665 [==============================] - ETA: 0s - loss: 1.9109 - accuracy: 0.3147\n",
      "Epoch 2: val_accuracy improved from 0.31416 to 0.47235, saving model to C:\\College\\Subjects\\Sem 6\\Speech Processing\\Project\\Check\n"
     ]
    },
    {
     "name": "stderr",
     "output_type": "stream",
     "text": [
      "WARNING:absl:Found untraced functions such as _jit_compiled_convolution_op, lstm_cell_1_layer_call_fn, lstm_cell_1_layer_call_and_return_conditional_losses, lstm_cell_2_layer_call_fn, lstm_cell_2_layer_call_and_return_conditional_losses while saving (showing 5 of 5). These functions will not be directly callable after loading.\n"
     ]
    },
    {
     "name": "stdout",
     "output_type": "stream",
     "text": [
      "INFO:tensorflow:Assets written to: C:\\College\\Subjects\\Sem 6\\Speech Processing\\Project\\Check\\assets\n"
     ]
    },
    {
     "name": "stderr",
     "output_type": "stream",
     "text": [
      "INFO:tensorflow:Assets written to: C:\\College\\Subjects\\Sem 6\\Speech Processing\\Project\\Check\\assets\n"
     ]
    },
    {
     "name": "stdout",
     "output_type": "stream",
     "text": [
      "665/665 [==============================] - 147s 221ms/step - loss: 1.9109 - accuracy: 0.3147 - val_loss: 1.5621 - val_accuracy: 0.4723\n",
      "Epoch 3/100\n",
      "665/665 [==============================] - ETA: 0s - loss: 1.6687 - accuracy: 0.4133\n",
      "Epoch 3: val_accuracy improved from 0.47235 to 0.58296, saving model to C:\\College\\Subjects\\Sem 6\\Speech Processing\\Project\\Check\n"
     ]
    },
    {
     "name": "stderr",
     "output_type": "stream",
     "text": [
      "WARNING:absl:Found untraced functions such as _jit_compiled_convolution_op, lstm_cell_1_layer_call_fn, lstm_cell_1_layer_call_and_return_conditional_losses, lstm_cell_2_layer_call_fn, lstm_cell_2_layer_call_and_return_conditional_losses while saving (showing 5 of 5). These functions will not be directly callable after loading.\n"
     ]
    },
    {
     "name": "stdout",
     "output_type": "stream",
     "text": [
      "INFO:tensorflow:Assets written to: C:\\College\\Subjects\\Sem 6\\Speech Processing\\Project\\Check\\assets\n"
     ]
    },
    {
     "name": "stderr",
     "output_type": "stream",
     "text": [
      "INFO:tensorflow:Assets written to: C:\\College\\Subjects\\Sem 6\\Speech Processing\\Project\\Check\\assets\n"
     ]
    },
    {
     "name": "stdout",
     "output_type": "stream",
     "text": [
      "665/665 [==============================] - 136s 204ms/step - loss: 1.6687 - accuracy: 0.4133 - val_loss: 1.3041 - val_accuracy: 0.5830\n",
      "Epoch 4/100\n",
      "665/665 [==============================] - ETA: 0s - loss: 1.4500 - accuracy: 0.4987\n",
      "Epoch 4: val_accuracy improved from 0.58296 to 0.68473, saving model to C:\\College\\Subjects\\Sem 6\\Speech Processing\\Project\\Check\n"
     ]
    },
    {
     "name": "stderr",
     "output_type": "stream",
     "text": [
      "WARNING:absl:Found untraced functions such as _jit_compiled_convolution_op, lstm_cell_1_layer_call_fn, lstm_cell_1_layer_call_and_return_conditional_losses, lstm_cell_2_layer_call_fn, lstm_cell_2_layer_call_and_return_conditional_losses while saving (showing 5 of 5). These functions will not be directly callable after loading.\n"
     ]
    },
    {
     "name": "stdout",
     "output_type": "stream",
     "text": [
      "INFO:tensorflow:Assets written to: C:\\College\\Subjects\\Sem 6\\Speech Processing\\Project\\Check\\assets\n"
     ]
    },
    {
     "name": "stderr",
     "output_type": "stream",
     "text": [
      "INFO:tensorflow:Assets written to: C:\\College\\Subjects\\Sem 6\\Speech Processing\\Project\\Check\\assets\n"
     ]
    },
    {
     "name": "stdout",
     "output_type": "stream",
     "text": [
      "665/665 [==============================] - 137s 205ms/step - loss: 1.4500 - accuracy: 0.4987 - val_loss: 1.0199 - val_accuracy: 0.6847\n",
      "Epoch 5/100\n",
      "665/665 [==============================] - ETA: 0s - loss: 1.2459 - accuracy: 0.5825\n",
      "Epoch 5: val_accuracy improved from 0.68473 to 0.76438, saving model to C:\\College\\Subjects\\Sem 6\\Speech Processing\\Project\\Check\n"
     ]
    },
    {
     "name": "stderr",
     "output_type": "stream",
     "text": [
      "WARNING:absl:Found untraced functions such as _jit_compiled_convolution_op, lstm_cell_1_layer_call_fn, lstm_cell_1_layer_call_and_return_conditional_losses, lstm_cell_2_layer_call_fn, lstm_cell_2_layer_call_and_return_conditional_losses while saving (showing 5 of 5). These functions will not be directly callable after loading.\n"
     ]
    },
    {
     "name": "stdout",
     "output_type": "stream",
     "text": [
      "INFO:tensorflow:Assets written to: C:\\College\\Subjects\\Sem 6\\Speech Processing\\Project\\Check\\assets\n"
     ]
    },
    {
     "name": "stderr",
     "output_type": "stream",
     "text": [
      "INFO:tensorflow:Assets written to: C:\\College\\Subjects\\Sem 6\\Speech Processing\\Project\\Check\\assets\n"
     ]
    },
    {
     "name": "stdout",
     "output_type": "stream",
     "text": [
      "665/665 [==============================] - 134s 201ms/step - loss: 1.2459 - accuracy: 0.5825 - val_loss: 0.7823 - val_accuracy: 0.7644\n",
      "Epoch 6/100\n",
      "665/665 [==============================] - ETA: 0s - loss: 1.0996 - accuracy: 0.6307\n",
      "Epoch 6: val_accuracy improved from 0.76438 to 0.76549, saving model to C:\\College\\Subjects\\Sem 6\\Speech Processing\\Project\\Check\n"
     ]
    },
    {
     "name": "stderr",
     "output_type": "stream",
     "text": [
      "WARNING:absl:Found untraced functions such as _jit_compiled_convolution_op, lstm_cell_1_layer_call_fn, lstm_cell_1_layer_call_and_return_conditional_losses, lstm_cell_2_layer_call_fn, lstm_cell_2_layer_call_and_return_conditional_losses while saving (showing 5 of 5). These functions will not be directly callable after loading.\n"
     ]
    },
    {
     "name": "stdout",
     "output_type": "stream",
     "text": [
      "INFO:tensorflow:Assets written to: C:\\College\\Subjects\\Sem 6\\Speech Processing\\Project\\Check\\assets\n"
     ]
    },
    {
     "name": "stderr",
     "output_type": "stream",
     "text": [
      "INFO:tensorflow:Assets written to: C:\\College\\Subjects\\Sem 6\\Speech Processing\\Project\\Check\\assets\n"
     ]
    },
    {
     "name": "stdout",
     "output_type": "stream",
     "text": [
      "665/665 [==============================] - 119s 178ms/step - loss: 1.0996 - accuracy: 0.6307 - val_loss: 0.7376 - val_accuracy: 0.7655\n",
      "Epoch 7/100\n",
      "665/665 [==============================] - ETA: 0s - loss: 0.9506 - accuracy: 0.6806\n",
      "Epoch 7: val_accuracy improved from 0.76549 to 0.79978, saving model to C:\\College\\Subjects\\Sem 6\\Speech Processing\\Project\\Check\n"
     ]
    },
    {
     "name": "stderr",
     "output_type": "stream",
     "text": [
      "WARNING:absl:Found untraced functions such as _jit_compiled_convolution_op, lstm_cell_1_layer_call_fn, lstm_cell_1_layer_call_and_return_conditional_losses, lstm_cell_2_layer_call_fn, lstm_cell_2_layer_call_and_return_conditional_losses while saving (showing 5 of 5). These functions will not be directly callable after loading.\n"
     ]
    },
    {
     "name": "stdout",
     "output_type": "stream",
     "text": [
      "INFO:tensorflow:Assets written to: C:\\College\\Subjects\\Sem 6\\Speech Processing\\Project\\Check\\assets\n"
     ]
    },
    {
     "name": "stderr",
     "output_type": "stream",
     "text": [
      "INFO:tensorflow:Assets written to: C:\\College\\Subjects\\Sem 6\\Speech Processing\\Project\\Check\\assets\n"
     ]
    },
    {
     "name": "stdout",
     "output_type": "stream",
     "text": [
      "665/665 [==============================] - 124s 187ms/step - loss: 0.9506 - accuracy: 0.6806 - val_loss: 0.6144 - val_accuracy: 0.7998\n",
      "Epoch 8/100\n",
      "665/665 [==============================] - ETA: 0s - loss: 0.8799 - accuracy: 0.7070\n",
      "Epoch 8: val_accuracy improved from 0.79978 to 0.84624, saving model to C:\\College\\Subjects\\Sem 6\\Speech Processing\\Project\\Check\n"
     ]
    },
    {
     "name": "stderr",
     "output_type": "stream",
     "text": [
      "WARNING:absl:Found untraced functions such as _jit_compiled_convolution_op, lstm_cell_1_layer_call_fn, lstm_cell_1_layer_call_and_return_conditional_losses, lstm_cell_2_layer_call_fn, lstm_cell_2_layer_call_and_return_conditional_losses while saving (showing 5 of 5). These functions will not be directly callable after loading.\n"
     ]
    },
    {
     "name": "stdout",
     "output_type": "stream",
     "text": [
      "INFO:tensorflow:Assets written to: C:\\College\\Subjects\\Sem 6\\Speech Processing\\Project\\Check\\assets\n"
     ]
    },
    {
     "name": "stderr",
     "output_type": "stream",
     "text": [
      "INFO:tensorflow:Assets written to: C:\\College\\Subjects\\Sem 6\\Speech Processing\\Project\\Check\\assets\n"
     ]
    },
    {
     "name": "stdout",
     "output_type": "stream",
     "text": [
      "665/665 [==============================] - 119s 179ms/step - loss: 0.8799 - accuracy: 0.7070 - val_loss: 0.5040 - val_accuracy: 0.8462\n",
      "Epoch 9/100\n",
      "665/665 [==============================] - ETA: 0s - loss: 0.7573 - accuracy: 0.7482\n",
      "Epoch 9: val_accuracy improved from 0.84624 to 0.87279, saving model to C:\\College\\Subjects\\Sem 6\\Speech Processing\\Project\\Check\n"
     ]
    },
    {
     "name": "stderr",
     "output_type": "stream",
     "text": [
      "WARNING:absl:Found untraced functions such as _jit_compiled_convolution_op, lstm_cell_1_layer_call_fn, lstm_cell_1_layer_call_and_return_conditional_losses, lstm_cell_2_layer_call_fn, lstm_cell_2_layer_call_and_return_conditional_losses while saving (showing 5 of 5). These functions will not be directly callable after loading.\n"
     ]
    },
    {
     "name": "stdout",
     "output_type": "stream",
     "text": [
      "INFO:tensorflow:Assets written to: C:\\College\\Subjects\\Sem 6\\Speech Processing\\Project\\Check\\assets\n"
     ]
    },
    {
     "name": "stderr",
     "output_type": "stream",
     "text": [
      "INFO:tensorflow:Assets written to: C:\\College\\Subjects\\Sem 6\\Speech Processing\\Project\\Check\\assets\n"
     ]
    },
    {
     "name": "stdout",
     "output_type": "stream",
     "text": [
      "665/665 [==============================] - 137s 206ms/step - loss: 0.7573 - accuracy: 0.7482 - val_loss: 0.4398 - val_accuracy: 0.8728\n",
      "Epoch 10/100\n",
      "665/665 [==============================] - ETA: 0s - loss: 0.6910 - accuracy: 0.7718\n",
      "Epoch 10: val_accuracy improved from 0.87279 to 0.88274, saving model to C:\\College\\Subjects\\Sem 6\\Speech Processing\\Project\\Check\n"
     ]
    },
    {
     "name": "stderr",
     "output_type": "stream",
     "text": [
      "WARNING:absl:Found untraced functions such as _jit_compiled_convolution_op, lstm_cell_1_layer_call_fn, lstm_cell_1_layer_call_and_return_conditional_losses, lstm_cell_2_layer_call_fn, lstm_cell_2_layer_call_and_return_conditional_losses while saving (showing 5 of 5). These functions will not be directly callable after loading.\n"
     ]
    },
    {
     "name": "stdout",
     "output_type": "stream",
     "text": [
      "INFO:tensorflow:Assets written to: C:\\College\\Subjects\\Sem 6\\Speech Processing\\Project\\Check\\assets\n"
     ]
    },
    {
     "name": "stderr",
     "output_type": "stream",
     "text": [
      "INFO:tensorflow:Assets written to: C:\\College\\Subjects\\Sem 6\\Speech Processing\\Project\\Check\\assets\n"
     ]
    },
    {
     "name": "stdout",
     "output_type": "stream",
     "text": [
      "665/665 [==============================] - 153s 231ms/step - loss: 0.6910 - accuracy: 0.7718 - val_loss: 0.3684 - val_accuracy: 0.8827\n",
      "Epoch 11/100\n",
      "665/665 [==============================] - ETA: 0s - loss: 0.6730 - accuracy: 0.7768\n",
      "Epoch 11: val_accuracy did not improve from 0.88274\n",
      "665/665 [==============================] - 118s 177ms/step - loss: 0.6730 - accuracy: 0.7768 - val_loss: 0.3763 - val_accuracy: 0.8816\n",
      "Epoch 12/100\n",
      "665/665 [==============================] - ETA: 0s - loss: 0.5872 - accuracy: 0.8067\n",
      "Epoch 12: val_accuracy improved from 0.88274 to 0.90708, saving model to C:\\College\\Subjects\\Sem 6\\Speech Processing\\Project\\Check\n"
     ]
    },
    {
     "name": "stderr",
     "output_type": "stream",
     "text": [
      "WARNING:absl:Found untraced functions such as _jit_compiled_convolution_op, lstm_cell_1_layer_call_fn, lstm_cell_1_layer_call_and_return_conditional_losses, lstm_cell_2_layer_call_fn, lstm_cell_2_layer_call_and_return_conditional_losses while saving (showing 5 of 5). These functions will not be directly callable after loading.\n"
     ]
    },
    {
     "name": "stdout",
     "output_type": "stream",
     "text": [
      "INFO:tensorflow:Assets written to: C:\\College\\Subjects\\Sem 6\\Speech Processing\\Project\\Check\\assets\n"
     ]
    },
    {
     "name": "stderr",
     "output_type": "stream",
     "text": [
      "INFO:tensorflow:Assets written to: C:\\College\\Subjects\\Sem 6\\Speech Processing\\Project\\Check\\assets\n"
     ]
    },
    {
     "name": "stdout",
     "output_type": "stream",
     "text": [
      "665/665 [==============================] - 137s 206ms/step - loss: 0.5872 - accuracy: 0.8067 - val_loss: 0.3122 - val_accuracy: 0.9071\n",
      "Epoch 13/100\n",
      "665/665 [==============================] - ETA: 0s - loss: 0.5541 - accuracy: 0.8153\n",
      "Epoch 13: val_accuracy improved from 0.90708 to 0.91040, saving model to C:\\College\\Subjects\\Sem 6\\Speech Processing\\Project\\Check\n"
     ]
    },
    {
     "name": "stderr",
     "output_type": "stream",
     "text": [
      "WARNING:absl:Found untraced functions such as _jit_compiled_convolution_op, lstm_cell_1_layer_call_fn, lstm_cell_1_layer_call_and_return_conditional_losses, lstm_cell_2_layer_call_fn, lstm_cell_2_layer_call_and_return_conditional_losses while saving (showing 5 of 5). These functions will not be directly callable after loading.\n"
     ]
    },
    {
     "name": "stdout",
     "output_type": "stream",
     "text": [
      "INFO:tensorflow:Assets written to: C:\\College\\Subjects\\Sem 6\\Speech Processing\\Project\\Check\\assets\n"
     ]
    },
    {
     "name": "stderr",
     "output_type": "stream",
     "text": [
      "INFO:tensorflow:Assets written to: C:\\College\\Subjects\\Sem 6\\Speech Processing\\Project\\Check\\assets\n"
     ]
    },
    {
     "name": "stdout",
     "output_type": "stream",
     "text": [
      "665/665 [==============================] - 139s 209ms/step - loss: 0.5541 - accuracy: 0.8153 - val_loss: 0.2971 - val_accuracy: 0.9104\n",
      "Epoch 14/100\n",
      "665/665 [==============================] - ETA: 0s - loss: 0.6316 - accuracy: 0.7935\n",
      "Epoch 14: val_accuracy did not improve from 0.91040\n",
      "665/665 [==============================] - 106s 159ms/step - loss: 0.6316 - accuracy: 0.7935 - val_loss: 1.0162 - val_accuracy: 0.6571\n",
      "Epoch 15/100\n",
      "665/665 [==============================] - ETA: 0s - loss: 0.7791 - accuracy: 0.7377\n",
      "Epoch 15: val_accuracy did not improve from 0.91040\n",
      "665/665 [==============================] - 100s 151ms/step - loss: 0.7791 - accuracy: 0.7377 - val_loss: 0.3610 - val_accuracy: 0.8861\n",
      "Epoch 16/100\n",
      "665/665 [==============================] - ETA: 0s - loss: 0.5791 - accuracy: 0.8070\n",
      "Epoch 16: val_accuracy did not improve from 0.91040\n",
      "665/665 [==============================] - 103s 154ms/step - loss: 0.5791 - accuracy: 0.8070 - val_loss: 0.3024 - val_accuracy: 0.9049\n",
      "Epoch 17/100\n",
      "665/665 [==============================] - ETA: 0s - loss: 0.5886 - accuracy: 0.8050\n",
      "Epoch 17: val_accuracy did not improve from 0.91040\n",
      "665/665 [==============================] - 111s 167ms/step - loss: 0.5886 - accuracy: 0.8050 - val_loss: 0.4922 - val_accuracy: 0.8440\n",
      "Epoch 18/100\n",
      "665/665 [==============================] - ETA: 0s - loss: 0.5340 - accuracy: 0.8204\n",
      "Epoch 18: val_accuracy improved from 0.91040 to 0.92257, saving model to C:\\College\\Subjects\\Sem 6\\Speech Processing\\Project\\Check\n"
     ]
    },
    {
     "name": "stderr",
     "output_type": "stream",
     "text": [
      "WARNING:absl:Found untraced functions such as _jit_compiled_convolution_op, lstm_cell_1_layer_call_fn, lstm_cell_1_layer_call_and_return_conditional_losses, lstm_cell_2_layer_call_fn, lstm_cell_2_layer_call_and_return_conditional_losses while saving (showing 5 of 5). These functions will not be directly callable after loading.\n"
     ]
    },
    {
     "name": "stdout",
     "output_type": "stream",
     "text": [
      "INFO:tensorflow:Assets written to: C:\\College\\Subjects\\Sem 6\\Speech Processing\\Project\\Check\\assets\n"
     ]
    },
    {
     "name": "stderr",
     "output_type": "stream",
     "text": [
      "INFO:tensorflow:Assets written to: C:\\College\\Subjects\\Sem 6\\Speech Processing\\Project\\Check\\assets\n"
     ]
    },
    {
     "name": "stdout",
     "output_type": "stream",
     "text": [
      "665/665 [==============================] - 140s 210ms/step - loss: 0.5340 - accuracy: 0.8204 - val_loss: 0.2728 - val_accuracy: 0.9226\n",
      "Epoch 19/100\n",
      "665/665 [==============================] - ETA: 0s - loss: 0.4591 - accuracy: 0.8464\n",
      "Epoch 19: val_accuracy improved from 0.92257 to 0.93363, saving model to C:\\College\\Subjects\\Sem 6\\Speech Processing\\Project\\Check\n"
     ]
    },
    {
     "name": "stderr",
     "output_type": "stream",
     "text": [
      "WARNING:absl:Found untraced functions such as _jit_compiled_convolution_op, lstm_cell_1_layer_call_fn, lstm_cell_1_layer_call_and_return_conditional_losses, lstm_cell_2_layer_call_fn, lstm_cell_2_layer_call_and_return_conditional_losses while saving (showing 5 of 5). These functions will not be directly callable after loading.\n"
     ]
    },
    {
     "name": "stdout",
     "output_type": "stream",
     "text": [
      "INFO:tensorflow:Assets written to: C:\\College\\Subjects\\Sem 6\\Speech Processing\\Project\\Check\\assets\n"
     ]
    },
    {
     "name": "stderr",
     "output_type": "stream",
     "text": [
      "INFO:tensorflow:Assets written to: C:\\College\\Subjects\\Sem 6\\Speech Processing\\Project\\Check\\assets\n"
     ]
    },
    {
     "name": "stdout",
     "output_type": "stream",
     "text": [
      "665/665 [==============================] - 148s 222ms/step - loss: 0.4591 - accuracy: 0.8464 - val_loss: 0.2338 - val_accuracy: 0.9336\n",
      "Epoch 20/100\n",
      "665/665 [==============================] - ETA: 0s - loss: 0.4237 - accuracy: 0.8583\n",
      "Epoch 20: val_accuracy improved from 0.93363 to 0.93473, saving model to C:\\College\\Subjects\\Sem 6\\Speech Processing\\Project\\Check\n"
     ]
    },
    {
     "name": "stderr",
     "output_type": "stream",
     "text": [
      "WARNING:absl:Found untraced functions such as _jit_compiled_convolution_op, lstm_cell_1_layer_call_fn, lstm_cell_1_layer_call_and_return_conditional_losses, lstm_cell_2_layer_call_fn, lstm_cell_2_layer_call_and_return_conditional_losses while saving (showing 5 of 5). These functions will not be directly callable after loading.\n"
     ]
    },
    {
     "name": "stdout",
     "output_type": "stream",
     "text": [
      "INFO:tensorflow:Assets written to: C:\\College\\Subjects\\Sem 6\\Speech Processing\\Project\\Check\\assets\n"
     ]
    },
    {
     "name": "stderr",
     "output_type": "stream",
     "text": [
      "INFO:tensorflow:Assets written to: C:\\College\\Subjects\\Sem 6\\Speech Processing\\Project\\Check\\assets\n"
     ]
    },
    {
     "name": "stdout",
     "output_type": "stream",
     "text": [
      "665/665 [==============================] - 131s 197ms/step - loss: 0.4237 - accuracy: 0.8583 - val_loss: 0.2195 - val_accuracy: 0.9347\n",
      "Epoch 21/100\n",
      "665/665 [==============================] - ETA: 0s - loss: 0.3915 - accuracy: 0.8716\n",
      "Epoch 21: val_accuracy improved from 0.93473 to 0.94137, saving model to C:\\College\\Subjects\\Sem 6\\Speech Processing\\Project\\Check\n"
     ]
    },
    {
     "name": "stderr",
     "output_type": "stream",
     "text": [
      "WARNING:absl:Found untraced functions such as _jit_compiled_convolution_op, lstm_cell_1_layer_call_fn, lstm_cell_1_layer_call_and_return_conditional_losses, lstm_cell_2_layer_call_fn, lstm_cell_2_layer_call_and_return_conditional_losses while saving (showing 5 of 5). These functions will not be directly callable after loading.\n"
     ]
    },
    {
     "name": "stdout",
     "output_type": "stream",
     "text": [
      "INFO:tensorflow:Assets written to: C:\\College\\Subjects\\Sem 6\\Speech Processing\\Project\\Check\\assets\n"
     ]
    },
    {
     "name": "stderr",
     "output_type": "stream",
     "text": [
      "INFO:tensorflow:Assets written to: C:\\College\\Subjects\\Sem 6\\Speech Processing\\Project\\Check\\assets\n"
     ]
    },
    {
     "name": "stdout",
     "output_type": "stream",
     "text": [
      "665/665 [==============================] - 135s 203ms/step - loss: 0.3915 - accuracy: 0.8716 - val_loss: 0.1914 - val_accuracy: 0.9414\n",
      "Epoch 22/100\n",
      "665/665 [==============================] - ETA: 0s - loss: 0.3662 - accuracy: 0.8792\n",
      "Epoch 22: val_accuracy did not improve from 0.94137\n",
      "665/665 [==============================] - 107s 161ms/step - loss: 0.3662 - accuracy: 0.8792 - val_loss: 0.1885 - val_accuracy: 0.9392\n",
      "Epoch 23/100\n",
      "665/665 [==============================] - ETA: 0s - loss: 0.3630 - accuracy: 0.8809\n",
      "Epoch 23: val_accuracy improved from 0.94137 to 0.94690, saving model to C:\\College\\Subjects\\Sem 6\\Speech Processing\\Project\\Check\n"
     ]
    },
    {
     "name": "stderr",
     "output_type": "stream",
     "text": [
      "WARNING:absl:Found untraced functions such as _jit_compiled_convolution_op, lstm_cell_1_layer_call_fn, lstm_cell_1_layer_call_and_return_conditional_losses, lstm_cell_2_layer_call_fn, lstm_cell_2_layer_call_and_return_conditional_losses while saving (showing 5 of 5). These functions will not be directly callable after loading.\n"
     ]
    },
    {
     "name": "stdout",
     "output_type": "stream",
     "text": [
      "INFO:tensorflow:Assets written to: C:\\College\\Subjects\\Sem 6\\Speech Processing\\Project\\Check\\assets\n"
     ]
    },
    {
     "name": "stderr",
     "output_type": "stream",
     "text": [
      "INFO:tensorflow:Assets written to: C:\\College\\Subjects\\Sem 6\\Speech Processing\\Project\\Check\\assets\n"
     ]
    },
    {
     "name": "stdout",
     "output_type": "stream",
     "text": [
      "665/665 [==============================] - 155s 232ms/step - loss: 0.3630 - accuracy: 0.8809 - val_loss: 0.1883 - val_accuracy: 0.9469\n",
      "Epoch 24/100\n",
      "665/665 [==============================] - ETA: 0s - loss: 0.3183 - accuracy: 0.8957\n",
      "Epoch 24: val_accuracy improved from 0.94690 to 0.94801, saving model to C:\\College\\Subjects\\Sem 6\\Speech Processing\\Project\\Check\n"
     ]
    },
    {
     "name": "stderr",
     "output_type": "stream",
     "text": [
      "WARNING:absl:Found untraced functions such as _jit_compiled_convolution_op, lstm_cell_1_layer_call_fn, lstm_cell_1_layer_call_and_return_conditional_losses, lstm_cell_2_layer_call_fn, lstm_cell_2_layer_call_and_return_conditional_losses while saving (showing 5 of 5). These functions will not be directly callable after loading.\n"
     ]
    },
    {
     "name": "stdout",
     "output_type": "stream",
     "text": [
      "INFO:tensorflow:Assets written to: C:\\College\\Subjects\\Sem 6\\Speech Processing\\Project\\Check\\assets\n"
     ]
    },
    {
     "name": "stderr",
     "output_type": "stream",
     "text": [
      "INFO:tensorflow:Assets written to: C:\\College\\Subjects\\Sem 6\\Speech Processing\\Project\\Check\\assets\n"
     ]
    },
    {
     "name": "stdout",
     "output_type": "stream",
     "text": [
      "665/665 [==============================] - 189s 284ms/step - loss: 0.3183 - accuracy: 0.8957 - val_loss: 0.1658 - val_accuracy: 0.9480\n",
      "Epoch 25/100\n",
      "665/665 [==============================] - ETA: 0s - loss: 0.3099 - accuracy: 0.8960\n",
      "Epoch 25: val_accuracy did not improve from 0.94801\n",
      "665/665 [==============================] - 168s 253ms/step - loss: 0.3099 - accuracy: 0.8960 - val_loss: 0.1575 - val_accuracy: 0.9425\n",
      "Epoch 26/100\n",
      "665/665 [==============================] - ETA: 0s - loss: 0.2996 - accuracy: 0.9010\n",
      "Epoch 26: val_accuracy improved from 0.94801 to 0.96018, saving model to C:\\College\\Subjects\\Sem 6\\Speech Processing\\Project\\Check\n"
     ]
    },
    {
     "name": "stderr",
     "output_type": "stream",
     "text": [
      "WARNING:absl:Found untraced functions such as _jit_compiled_convolution_op, lstm_cell_1_layer_call_fn, lstm_cell_1_layer_call_and_return_conditional_losses, lstm_cell_2_layer_call_fn, lstm_cell_2_layer_call_and_return_conditional_losses while saving (showing 5 of 5). These functions will not be directly callable after loading.\n"
     ]
    },
    {
     "name": "stdout",
     "output_type": "stream",
     "text": [
      "INFO:tensorflow:Assets written to: C:\\College\\Subjects\\Sem 6\\Speech Processing\\Project\\Check\\assets\n"
     ]
    },
    {
     "name": "stderr",
     "output_type": "stream",
     "text": [
      "INFO:tensorflow:Assets written to: C:\\College\\Subjects\\Sem 6\\Speech Processing\\Project\\Check\\assets\n"
     ]
    },
    {
     "name": "stdout",
     "output_type": "stream",
     "text": [
      "665/665 [==============================] - 192s 288ms/step - loss: 0.2996 - accuracy: 0.9010 - val_loss: 0.1228 - val_accuracy: 0.9602\n",
      "Epoch 27/100\n",
      "665/665 [==============================] - ETA: 0s - loss: 0.2921 - accuracy: 0.9048\n",
      "Epoch 27: val_accuracy did not improve from 0.96018\n",
      "665/665 [==============================] - 161s 242ms/step - loss: 0.2921 - accuracy: 0.9048 - val_loss: 0.1593 - val_accuracy: 0.9447\n",
      "Epoch 28/100\n",
      "665/665 [==============================] - ETA: 0s - loss: 0.2869 - accuracy: 0.9044\n",
      "Epoch 28: val_accuracy did not improve from 0.96018\n",
      "665/665 [==============================] - 161s 243ms/step - loss: 0.2869 - accuracy: 0.9044 - val_loss: 0.1474 - val_accuracy: 0.9491\n",
      "Epoch 29/100\n",
      "665/665 [==============================] - ETA: 0s - loss: 0.4133 - accuracy: 0.8649\n",
      "Epoch 29: val_accuracy did not improve from 0.96018\n",
      "665/665 [==============================] - 164s 247ms/step - loss: 0.4133 - accuracy: 0.8649 - val_loss: 0.2207 - val_accuracy: 0.9259\n",
      "Epoch 30/100\n",
      "665/665 [==============================] - ETA: 0s - loss: 0.3521 - accuracy: 0.8822\n",
      "Epoch 30: val_accuracy did not improve from 0.96018\n",
      "665/665 [==============================] - 167s 250ms/step - loss: 0.3521 - accuracy: 0.8822 - val_loss: 0.1681 - val_accuracy: 0.9458\n",
      "Epoch 31/100\n",
      "665/665 [==============================] - ETA: 0s - loss: 0.2921 - accuracy: 0.9026\n",
      "Epoch 31: val_accuracy did not improve from 0.96018\n",
      "665/665 [==============================] - 167s 251ms/step - loss: 0.2921 - accuracy: 0.9026 - val_loss: 0.1476 - val_accuracy: 0.9546\n",
      "Epoch 32/100\n",
      "665/665 [==============================] - ETA: 0s - loss: 0.2746 - accuracy: 0.9073\n",
      "Epoch 32: val_accuracy improved from 0.96018 to 0.96903, saving model to C:\\College\\Subjects\\Sem 6\\Speech Processing\\Project\\Check\n"
     ]
    },
    {
     "name": "stderr",
     "output_type": "stream",
     "text": [
      "WARNING:absl:Found untraced functions such as _jit_compiled_convolution_op, lstm_cell_1_layer_call_fn, lstm_cell_1_layer_call_and_return_conditional_losses, lstm_cell_2_layer_call_fn, lstm_cell_2_layer_call_and_return_conditional_losses while saving (showing 5 of 5). These functions will not be directly callable after loading.\n"
     ]
    },
    {
     "name": "stdout",
     "output_type": "stream",
     "text": [
      "INFO:tensorflow:Assets written to: C:\\College\\Subjects\\Sem 6\\Speech Processing\\Project\\Check\\assets\n"
     ]
    },
    {
     "name": "stderr",
     "output_type": "stream",
     "text": [
      "INFO:tensorflow:Assets written to: C:\\College\\Subjects\\Sem 6\\Speech Processing\\Project\\Check\\assets\n"
     ]
    },
    {
     "name": "stdout",
     "output_type": "stream",
     "text": [
      "665/665 [==============================] - 198s 297ms/step - loss: 0.2746 - accuracy: 0.9073 - val_loss: 0.1051 - val_accuracy: 0.9690\n",
      "Epoch 33/100\n",
      "665/665 [==============================] - ETA: 0s - loss: 0.2926 - accuracy: 0.9025\n",
      "Epoch 33: val_accuracy did not improve from 0.96903\n",
      "665/665 [==============================] - 176s 264ms/step - loss: 0.2926 - accuracy: 0.9025 - val_loss: 0.1392 - val_accuracy: 0.9580\n",
      "Epoch 34/100\n",
      "665/665 [==============================] - ETA: 0s - loss: 0.2745 - accuracy: 0.9087\n",
      "Epoch 34: val_accuracy did not improve from 0.96903\n",
      "665/665 [==============================] - 164s 246ms/step - loss: 0.2745 - accuracy: 0.9087 - val_loss: 0.1642 - val_accuracy: 0.9436\n",
      "Epoch 35/100\n",
      "665/665 [==============================] - ETA: 0s - loss: 0.2423 - accuracy: 0.9190\n",
      "Epoch 35: val_accuracy did not improve from 0.96903\n",
      "665/665 [==============================] - 179s 269ms/step - loss: 0.2423 - accuracy: 0.9190 - val_loss: 0.1569 - val_accuracy: 0.9524\n",
      "Epoch 36/100\n",
      "665/665 [==============================] - ETA: 0s - loss: 0.2460 - accuracy: 0.9167\n",
      "Epoch 36: val_accuracy did not improve from 0.96903\n",
      "665/665 [==============================] - 182s 274ms/step - loss: 0.2460 - accuracy: 0.9167 - val_loss: 0.1375 - val_accuracy: 0.9635\n",
      "Epoch 37/100\n",
      "665/665 [==============================] - ETA: 0s - loss: 0.2253 - accuracy: 0.9241\n",
      "Epoch 37: val_accuracy improved from 0.96903 to 0.97124, saving model to C:\\College\\Subjects\\Sem 6\\Speech Processing\\Project\\Check\n"
     ]
    },
    {
     "name": "stderr",
     "output_type": "stream",
     "text": [
      "WARNING:absl:Found untraced functions such as _jit_compiled_convolution_op, lstm_cell_1_layer_call_fn, lstm_cell_1_layer_call_and_return_conditional_losses, lstm_cell_2_layer_call_fn, lstm_cell_2_layer_call_and_return_conditional_losses while saving (showing 5 of 5). These functions will not be directly callable after loading.\n"
     ]
    },
    {
     "name": "stdout",
     "output_type": "stream",
     "text": [
      "INFO:tensorflow:Assets written to: C:\\College\\Subjects\\Sem 6\\Speech Processing\\Project\\Check\\assets\n"
     ]
    },
    {
     "name": "stderr",
     "output_type": "stream",
     "text": [
      "INFO:tensorflow:Assets written to: C:\\College\\Subjects\\Sem 6\\Speech Processing\\Project\\Check\\assets\n"
     ]
    },
    {
     "name": "stdout",
     "output_type": "stream",
     "text": [
      "665/665 [==============================] - 223s 335ms/step - loss: 0.2253 - accuracy: 0.9241 - val_loss: 0.0995 - val_accuracy: 0.9712\n",
      "Epoch 38/100\n",
      "665/665 [==============================] - ETA: 0s - loss: 0.2196 - accuracy: 0.9272\n",
      "Epoch 38: val_accuracy improved from 0.97124 to 0.97235, saving model to C:\\College\\Subjects\\Sem 6\\Speech Processing\\Project\\Check\n"
     ]
    },
    {
     "name": "stderr",
     "output_type": "stream",
     "text": [
      "WARNING:absl:Found untraced functions such as _jit_compiled_convolution_op, lstm_cell_1_layer_call_fn, lstm_cell_1_layer_call_and_return_conditional_losses, lstm_cell_2_layer_call_fn, lstm_cell_2_layer_call_and_return_conditional_losses while saving (showing 5 of 5). These functions will not be directly callable after loading.\n"
     ]
    },
    {
     "name": "stdout",
     "output_type": "stream",
     "text": [
      "INFO:tensorflow:Assets written to: C:\\College\\Subjects\\Sem 6\\Speech Processing\\Project\\Check\\assets\n"
     ]
    },
    {
     "name": "stderr",
     "output_type": "stream",
     "text": [
      "INFO:tensorflow:Assets written to: C:\\College\\Subjects\\Sem 6\\Speech Processing\\Project\\Check\\assets\n"
     ]
    },
    {
     "name": "stdout",
     "output_type": "stream",
     "text": [
      "665/665 [==============================] - 194s 292ms/step - loss: 0.2196 - accuracy: 0.9272 - val_loss: 0.0869 - val_accuracy: 0.9723\n",
      "Epoch 39/100\n",
      "665/665 [==============================] - ETA: 0s - loss: 0.1998 - accuracy: 0.9331\n",
      "Epoch 39: val_accuracy did not improve from 0.97235\n",
      "665/665 [==============================] - 111s 167ms/step - loss: 0.1998 - accuracy: 0.9331 - val_loss: 0.1264 - val_accuracy: 0.9602\n",
      "Epoch 40/100\n",
      "665/665 [==============================] - ETA: 0s - loss: 0.1847 - accuracy: 0.9386\n",
      "Epoch 40: val_accuracy did not improve from 0.97235\n",
      "665/665 [==============================] - 115s 174ms/step - loss: 0.1847 - accuracy: 0.9386 - val_loss: 0.0857 - val_accuracy: 0.9701\n",
      "Epoch 41/100\n",
      "665/665 [==============================] - ETA: 0s - loss: 0.2691 - accuracy: 0.9116\n",
      "Epoch 41: val_accuracy did not improve from 0.97235\n",
      "665/665 [==============================] - 104s 156ms/step - loss: 0.2691 - accuracy: 0.9116 - val_loss: 0.1266 - val_accuracy: 0.9580\n",
      "Epoch 42/100\n",
      "665/665 [==============================] - ETA: 0s - loss: 0.1858 - accuracy: 0.9390\n",
      "Epoch 42: val_accuracy did not improve from 0.97235\n",
      "665/665 [==============================] - 113s 170ms/step - loss: 0.1858 - accuracy: 0.9390 - val_loss: 0.1101 - val_accuracy: 0.9635\n",
      "Epoch 43/100\n",
      "665/665 [==============================] - ETA: 0s - loss: 0.1686 - accuracy: 0.9436\n",
      "Epoch 43: val_accuracy did not improve from 0.97235\n",
      "665/665 [==============================] - 112s 168ms/step - loss: 0.1686 - accuracy: 0.9436 - val_loss: 0.0960 - val_accuracy: 0.9690\n",
      "Epoch 44/100\n",
      "665/665 [==============================] - ETA: 0s - loss: 0.1728 - accuracy: 0.9426\n",
      "Epoch 44: val_accuracy did not improve from 0.97235\n",
      "665/665 [==============================] - 114s 172ms/step - loss: 0.1728 - accuracy: 0.9426 - val_loss: 0.0942 - val_accuracy: 0.9712\n",
      "Epoch 45/100\n",
      "665/665 [==============================] - ETA: 0s - loss: 0.1688 - accuracy: 0.9436\n",
      "Epoch 45: val_accuracy did not improve from 0.97235\n",
      "665/665 [==============================] - 118s 177ms/step - loss: 0.1688 - accuracy: 0.9436 - val_loss: 0.1003 - val_accuracy: 0.9624\n",
      "Epoch 46/100\n",
      "665/665 [==============================] - ETA: 0s - loss: 0.1682 - accuracy: 0.9434\n",
      "Epoch 46: val_accuracy improved from 0.97235 to 0.97788, saving model to C:\\College\\Subjects\\Sem 6\\Speech Processing\\Project\\Check\n"
     ]
    },
    {
     "name": "stderr",
     "output_type": "stream",
     "text": [
      "WARNING:absl:Found untraced functions such as _jit_compiled_convolution_op, lstm_cell_1_layer_call_fn, lstm_cell_1_layer_call_and_return_conditional_losses, lstm_cell_2_layer_call_fn, lstm_cell_2_layer_call_and_return_conditional_losses while saving (showing 5 of 5). These functions will not be directly callable after loading.\n"
     ]
    },
    {
     "name": "stdout",
     "output_type": "stream",
     "text": [
      "INFO:tensorflow:Assets written to: C:\\College\\Subjects\\Sem 6\\Speech Processing\\Project\\Check\\assets\n"
     ]
    },
    {
     "name": "stderr",
     "output_type": "stream",
     "text": [
      "INFO:tensorflow:Assets written to: C:\\College\\Subjects\\Sem 6\\Speech Processing\\Project\\Check\\assets\n"
     ]
    },
    {
     "name": "stdout",
     "output_type": "stream",
     "text": [
      "665/665 [==============================] - 144s 217ms/step - loss: 0.1682 - accuracy: 0.9434 - val_loss: 0.0791 - val_accuracy: 0.9779\n",
      "Epoch 47/100\n",
      "665/665 [==============================] - ETA: 0s - loss: 0.1728 - accuracy: 0.9420\n",
      "Epoch 47: val_accuracy did not improve from 0.97788\n",
      "665/665 [==============================] - 115s 173ms/step - loss: 0.1728 - accuracy: 0.9420 - val_loss: 0.0943 - val_accuracy: 0.9690\n",
      "Epoch 48/100\n",
      "665/665 [==============================] - ETA: 0s - loss: 0.1499 - accuracy: 0.9509\n",
      "Epoch 48: val_accuracy did not improve from 0.97788\n",
      "665/665 [==============================] - 108s 163ms/step - loss: 0.1499 - accuracy: 0.9509 - val_loss: 0.0888 - val_accuracy: 0.9712\n",
      "Epoch 49/100\n",
      "665/665 [==============================] - ETA: 0s - loss: 0.1605 - accuracy: 0.9461\n",
      "Epoch 49: val_accuracy did not improve from 0.97788\n",
      "665/665 [==============================] - 110s 166ms/step - loss: 0.1605 - accuracy: 0.9461 - val_loss: 0.0622 - val_accuracy: 0.9779\n",
      "Epoch 50/100\n",
      "665/665 [==============================] - ETA: 0s - loss: 0.1487 - accuracy: 0.9505\n",
      "Epoch 50: val_accuracy improved from 0.97788 to 0.98562, saving model to C:\\College\\Subjects\\Sem 6\\Speech Processing\\Project\\Check\n"
     ]
    },
    {
     "name": "stderr",
     "output_type": "stream",
     "text": [
      "WARNING:absl:Found untraced functions such as _jit_compiled_convolution_op, lstm_cell_1_layer_call_fn, lstm_cell_1_layer_call_and_return_conditional_losses, lstm_cell_2_layer_call_fn, lstm_cell_2_layer_call_and_return_conditional_losses while saving (showing 5 of 5). These functions will not be directly callable after loading.\n"
     ]
    },
    {
     "name": "stdout",
     "output_type": "stream",
     "text": [
      "INFO:tensorflow:Assets written to: C:\\College\\Subjects\\Sem 6\\Speech Processing\\Project\\Check\\assets\n"
     ]
    },
    {
     "name": "stderr",
     "output_type": "stream",
     "text": [
      "INFO:tensorflow:Assets written to: C:\\College\\Subjects\\Sem 6\\Speech Processing\\Project\\Check\\assets\n"
     ]
    },
    {
     "name": "stdout",
     "output_type": "stream",
     "text": [
      "665/665 [==============================] - 142s 214ms/step - loss: 0.1487 - accuracy: 0.9505 - val_loss: 0.0537 - val_accuracy: 0.9856\n",
      "Epoch 51/100\n",
      "665/665 [==============================] - ETA: 0s - loss: 0.1593 - accuracy: 0.9485\n",
      "Epoch 51: val_accuracy did not improve from 0.98562\n",
      "665/665 [==============================] - 123s 185ms/step - loss: 0.1593 - accuracy: 0.9485 - val_loss: 0.0826 - val_accuracy: 0.9746\n",
      "Epoch 52/100\n",
      "665/665 [==============================] - ETA: 0s - loss: 0.1388 - accuracy: 0.9540\n",
      "Epoch 52: val_accuracy did not improve from 0.98562\n",
      "665/665 [==============================] - 119s 179ms/step - loss: 0.1388 - accuracy: 0.9540 - val_loss: 0.0749 - val_accuracy: 0.9768\n",
      "Epoch 53/100\n",
      "665/665 [==============================] - ETA: 0s - loss: 0.1280 - accuracy: 0.9577\n",
      "Epoch 53: val_accuracy did not improve from 0.98562\n",
      "665/665 [==============================] - 120s 180ms/step - loss: 0.1280 - accuracy: 0.9577 - val_loss: 0.0775 - val_accuracy: 0.9723\n",
      "Epoch 54/100\n",
      "665/665 [==============================] - ETA: 0s - loss: 0.1326 - accuracy: 0.9573\n",
      "Epoch 54: val_accuracy did not improve from 0.98562\n",
      "665/665 [==============================] - 119s 179ms/step - loss: 0.1326 - accuracy: 0.9573 - val_loss: 0.0831 - val_accuracy: 0.9723\n",
      "Epoch 55/100\n",
      "665/665 [==============================] - ETA: 0s - loss: 0.1352 - accuracy: 0.9553\n",
      "Epoch 55: val_accuracy did not improve from 0.98562\n",
      "665/665 [==============================] - 125s 187ms/step - loss: 0.1352 - accuracy: 0.9553 - val_loss: 0.0739 - val_accuracy: 0.9801\n",
      "Epoch 56/100\n",
      "665/665 [==============================] - ETA: 0s - loss: 0.1300 - accuracy: 0.9558\n",
      "Epoch 56: val_accuracy did not improve from 0.98562\n",
      "665/665 [==============================] - 118s 177ms/step - loss: 0.1300 - accuracy: 0.9558 - val_loss: 0.0512 - val_accuracy: 0.9834\n",
      "Epoch 57/100\n",
      "665/665 [==============================] - ETA: 0s - loss: 0.1068 - accuracy: 0.9634\n",
      "Epoch 57: val_accuracy did not improve from 0.98562\n",
      "665/665 [==============================] - 129s 194ms/step - loss: 0.1068 - accuracy: 0.9634 - val_loss: 0.0531 - val_accuracy: 0.9845\n",
      "Epoch 58/100\n",
      "665/665 [==============================] - ETA: 0s - loss: 0.1052 - accuracy: 0.9644\n",
      "Epoch 58: val_accuracy improved from 0.98562 to 0.98783, saving model to C:\\College\\Subjects\\Sem 6\\Speech Processing\\Project\\Check\n"
     ]
    },
    {
     "name": "stderr",
     "output_type": "stream",
     "text": [
      "WARNING:absl:Found untraced functions such as _jit_compiled_convolution_op, lstm_cell_1_layer_call_fn, lstm_cell_1_layer_call_and_return_conditional_losses, lstm_cell_2_layer_call_fn, lstm_cell_2_layer_call_and_return_conditional_losses while saving (showing 5 of 5). These functions will not be directly callable after loading.\n"
     ]
    },
    {
     "name": "stdout",
     "output_type": "stream",
     "text": [
      "INFO:tensorflow:Assets written to: C:\\College\\Subjects\\Sem 6\\Speech Processing\\Project\\Check\\assets\n"
     ]
    },
    {
     "name": "stderr",
     "output_type": "stream",
     "text": [
      "INFO:tensorflow:Assets written to: C:\\College\\Subjects\\Sem 6\\Speech Processing\\Project\\Check\\assets\n"
     ]
    },
    {
     "name": "stdout",
     "output_type": "stream",
     "text": [
      "665/665 [==============================] - 158s 238ms/step - loss: 0.1052 - accuracy: 0.9644 - val_loss: 0.0346 - val_accuracy: 0.9878\n",
      "Epoch 59/100\n",
      "665/665 [==============================] - ETA: 0s - loss: 0.1186 - accuracy: 0.9608\n",
      "Epoch 59: val_accuracy did not improve from 0.98783\n",
      "665/665 [==============================] - 125s 188ms/step - loss: 0.1186 - accuracy: 0.9608 - val_loss: 0.0506 - val_accuracy: 0.9867\n",
      "Epoch 60/100\n",
      "665/665 [==============================] - ETA: 0s - loss: 0.1211 - accuracy: 0.9600\n",
      "Epoch 60: val_accuracy did not improve from 0.98783\n",
      "665/665 [==============================] - 106s 160ms/step - loss: 0.1211 - accuracy: 0.9600 - val_loss: 0.0397 - val_accuracy: 0.9867\n",
      "Epoch 61/100\n",
      "665/665 [==============================] - ETA: 0s - loss: 0.1167 - accuracy: 0.9593\n",
      "Epoch 61: val_accuracy improved from 0.98783 to 0.99004, saving model to C:\\College\\Subjects\\Sem 6\\Speech Processing\\Project\\Check\n"
     ]
    },
    {
     "name": "stderr",
     "output_type": "stream",
     "text": [
      "WARNING:absl:Found untraced functions such as _jit_compiled_convolution_op, lstm_cell_1_layer_call_fn, lstm_cell_1_layer_call_and_return_conditional_losses, lstm_cell_2_layer_call_fn, lstm_cell_2_layer_call_and_return_conditional_losses while saving (showing 5 of 5). These functions will not be directly callable after loading.\n"
     ]
    },
    {
     "name": "stdout",
     "output_type": "stream",
     "text": [
      "INFO:tensorflow:Assets written to: C:\\College\\Subjects\\Sem 6\\Speech Processing\\Project\\Check\\assets\n"
     ]
    },
    {
     "name": "stderr",
     "output_type": "stream",
     "text": [
      "INFO:tensorflow:Assets written to: C:\\College\\Subjects\\Sem 6\\Speech Processing\\Project\\Check\\assets\n"
     ]
    },
    {
     "name": "stdout",
     "output_type": "stream",
     "text": [
      "665/665 [==============================] - 151s 228ms/step - loss: 0.1167 - accuracy: 0.9593 - val_loss: 0.0395 - val_accuracy: 0.9900\n",
      "Epoch 62/100\n",
      "665/665 [==============================] - ETA: 0s - loss: 0.1009 - accuracy: 0.9662\n",
      "Epoch 62: val_accuracy did not improve from 0.99004\n",
      "665/665 [==============================] - 109s 163ms/step - loss: 0.1009 - accuracy: 0.9662 - val_loss: 0.0567 - val_accuracy: 0.9845\n",
      "Epoch 63/100\n",
      "665/665 [==============================] - ETA: 0s - loss: 0.0991 - accuracy: 0.9673\n",
      "Epoch 63: val_accuracy improved from 0.99004 to 0.99115, saving model to C:\\College\\Subjects\\Sem 6\\Speech Processing\\Project\\Check\n"
     ]
    },
    {
     "name": "stderr",
     "output_type": "stream",
     "text": [
      "WARNING:absl:Found untraced functions such as _jit_compiled_convolution_op, lstm_cell_1_layer_call_fn, lstm_cell_1_layer_call_and_return_conditional_losses, lstm_cell_2_layer_call_fn, lstm_cell_2_layer_call_and_return_conditional_losses while saving (showing 5 of 5). These functions will not be directly callable after loading.\n"
     ]
    },
    {
     "name": "stdout",
     "output_type": "stream",
     "text": [
      "INFO:tensorflow:Assets written to: C:\\College\\Subjects\\Sem 6\\Speech Processing\\Project\\Check\\assets\n"
     ]
    },
    {
     "name": "stderr",
     "output_type": "stream",
     "text": [
      "INFO:tensorflow:Assets written to: C:\\College\\Subjects\\Sem 6\\Speech Processing\\Project\\Check\\assets\n"
     ]
    },
    {
     "name": "stdout",
     "output_type": "stream",
     "text": [
      "665/665 [==============================] - 139s 210ms/step - loss: 0.0991 - accuracy: 0.9673 - val_loss: 0.0291 - val_accuracy: 0.9912\n",
      "Epoch 64/100\n",
      "665/665 [==============================] - ETA: 0s - loss: 0.1079 - accuracy: 0.9632\n",
      "Epoch 64: val_accuracy did not improve from 0.99115\n",
      "665/665 [==============================] - 111s 167ms/step - loss: 0.1079 - accuracy: 0.9632 - val_loss: 0.0400 - val_accuracy: 0.9845\n",
      "Epoch 65/100\n",
      "665/665 [==============================] - ETA: 0s - loss: 0.0965 - accuracy: 0.9670\n",
      "Epoch 65: val_accuracy did not improve from 0.99115\n",
      "665/665 [==============================] - 113s 170ms/step - loss: 0.0965 - accuracy: 0.9670 - val_loss: 0.0609 - val_accuracy: 0.9812\n",
      "Epoch 66/100\n",
      "665/665 [==============================] - ETA: 0s - loss: 0.0965 - accuracy: 0.9680\n",
      "Epoch 66: val_accuracy did not improve from 0.99115\n",
      "665/665 [==============================] - 113s 169ms/step - loss: 0.0965 - accuracy: 0.9680 - val_loss: 0.0720 - val_accuracy: 0.9779\n",
      "Epoch 67/100\n",
      "665/665 [==============================] - ETA: 0s - loss: 0.0901 - accuracy: 0.9699\n",
      "Epoch 67: val_accuracy did not improve from 0.99115\n",
      "665/665 [==============================] - 113s 169ms/step - loss: 0.0901 - accuracy: 0.9699 - val_loss: 0.0383 - val_accuracy: 0.9889\n",
      "Epoch 68/100\n",
      "665/665 [==============================] - ETA: 0s - loss: 0.0868 - accuracy: 0.9699\n",
      "Epoch 68: val_accuracy did not improve from 0.99115\n",
      "665/665 [==============================] - 107s 161ms/step - loss: 0.0868 - accuracy: 0.9699 - val_loss: 0.0510 - val_accuracy: 0.9878\n",
      "Epoch 69/100\n",
      "665/665 [==============================] - ETA: 0s - loss: 0.0947 - accuracy: 0.9693\n",
      "Epoch 69: val_accuracy did not improve from 0.99115\n",
      "665/665 [==============================] - 114s 172ms/step - loss: 0.0947 - accuracy: 0.9693 - val_loss: 0.0439 - val_accuracy: 0.9856\n",
      "Epoch 70/100\n",
      "665/665 [==============================] - ETA: 0s - loss: 0.0840 - accuracy: 0.9723\n",
      "Epoch 70: val_accuracy improved from 0.99115 to 0.99336, saving model to C:\\College\\Subjects\\Sem 6\\Speech Processing\\Project\\Check\n"
     ]
    },
    {
     "name": "stderr",
     "output_type": "stream",
     "text": [
      "WARNING:absl:Found untraced functions such as _jit_compiled_convolution_op, lstm_cell_1_layer_call_fn, lstm_cell_1_layer_call_and_return_conditional_losses, lstm_cell_2_layer_call_fn, lstm_cell_2_layer_call_and_return_conditional_losses while saving (showing 5 of 5). These functions will not be directly callable after loading.\n"
     ]
    },
    {
     "name": "stdout",
     "output_type": "stream",
     "text": [
      "INFO:tensorflow:Assets written to: C:\\College\\Subjects\\Sem 6\\Speech Processing\\Project\\Check\\assets\n"
     ]
    },
    {
     "name": "stderr",
     "output_type": "stream",
     "text": [
      "INFO:tensorflow:Assets written to: C:\\College\\Subjects\\Sem 6\\Speech Processing\\Project\\Check\\assets\n"
     ]
    },
    {
     "name": "stdout",
     "output_type": "stream",
     "text": [
      "665/665 [==============================] - 140s 211ms/step - loss: 0.0840 - accuracy: 0.9723 - val_loss: 0.0242 - val_accuracy: 0.9934\n",
      "Epoch 71/100\n",
      "665/665 [==============================] - ETA: 0s - loss: 0.1867 - accuracy: 0.9415\n",
      "Epoch 71: val_accuracy did not improve from 0.99336\n",
      "665/665 [==============================] - 124s 186ms/step - loss: 0.1867 - accuracy: 0.9415 - val_loss: 0.0643 - val_accuracy: 0.9834\n",
      "Epoch 72/100\n",
      "665/665 [==============================] - ETA: 0s - loss: 0.1015 - accuracy: 0.9671\n",
      "Epoch 72: val_accuracy did not improve from 0.99336\n",
      "665/665 [==============================] - 121s 181ms/step - loss: 0.1015 - accuracy: 0.9671 - val_loss: 0.0387 - val_accuracy: 0.9878\n",
      "Epoch 73/100\n",
      "665/665 [==============================] - ETA: 0s - loss: 0.0811 - accuracy: 0.9724\n",
      "Epoch 73: val_accuracy did not improve from 0.99336\n",
      "665/665 [==============================] - 128s 192ms/step - loss: 0.0811 - accuracy: 0.9724 - val_loss: 0.0398 - val_accuracy: 0.9889\n",
      "Epoch 74/100\n",
      "665/665 [==============================] - ETA: 0s - loss: 0.0863 - accuracy: 0.9712\n",
      "Epoch 74: val_accuracy did not improve from 0.99336\n",
      "665/665 [==============================] - 123s 185ms/step - loss: 0.0863 - accuracy: 0.9712 - val_loss: 0.0509 - val_accuracy: 0.9889\n",
      "Epoch 75/100\n",
      "665/665 [==============================] - ETA: 0s - loss: 0.0750 - accuracy: 0.9753\n",
      "Epoch 75: val_accuracy did not improve from 0.99336\n",
      "665/665 [==============================] - 113s 170ms/step - loss: 0.0750 - accuracy: 0.9753 - val_loss: 0.0434 - val_accuracy: 0.9923\n",
      "Epoch 76/100\n",
      "665/665 [==============================] - ETA: 0s - loss: 0.0761 - accuracy: 0.9758\n",
      "Epoch 76: val_accuracy did not improve from 0.99336\n",
      "665/665 [==============================] - 110s 165ms/step - loss: 0.0761 - accuracy: 0.9758 - val_loss: 0.0445 - val_accuracy: 0.9867\n",
      "Epoch 77/100\n",
      "665/665 [==============================] - ETA: 0s - loss: 0.0768 - accuracy: 0.9756\n",
      "Epoch 77: val_accuracy did not improve from 0.99336\n",
      "665/665 [==============================] - 115s 173ms/step - loss: 0.0768 - accuracy: 0.9756 - val_loss: 0.0379 - val_accuracy: 0.9867\n",
      "Epoch 78/100\n",
      "665/665 [==============================] - ETA: 0s - loss: 0.0669 - accuracy: 0.9782\n",
      "Epoch 78: val_accuracy did not improve from 0.99336\n",
      "665/665 [==============================] - 108s 163ms/step - loss: 0.0669 - accuracy: 0.9782 - val_loss: 0.0300 - val_accuracy: 0.9912\n",
      "Epoch 79/100\n",
      "665/665 [==============================] - ETA: 0s - loss: 0.0884 - accuracy: 0.9707\n",
      "Epoch 79: val_accuracy did not improve from 0.99336\n",
      "665/665 [==============================] - 118s 177ms/step - loss: 0.0884 - accuracy: 0.9707 - val_loss: 0.0248 - val_accuracy: 0.9934\n",
      "Epoch 80/100\n",
      "665/665 [==============================] - ETA: 0s - loss: 0.0779 - accuracy: 0.9746\n",
      "Epoch 80: val_accuracy did not improve from 0.99336\n",
      "665/665 [==============================] - 123s 185ms/step - loss: 0.0779 - accuracy: 0.9746 - val_loss: 0.0458 - val_accuracy: 0.9834\n",
      "Epoch 81/100\n",
      "665/665 [==============================] - ETA: 0s - loss: 0.0733 - accuracy: 0.9762\n",
      "Epoch 81: val_accuracy did not improve from 0.99336\n",
      "665/665 [==============================] - 128s 193ms/step - loss: 0.0733 - accuracy: 0.9762 - val_loss: 0.0396 - val_accuracy: 0.9900\n",
      "Epoch 82/100\n",
      "665/665 [==============================] - ETA: 0s - loss: 0.0762 - accuracy: 0.9755\n",
      "Epoch 82: val_accuracy did not improve from 0.99336\n",
      "665/665 [==============================] - 129s 194ms/step - loss: 0.0762 - accuracy: 0.9755 - val_loss: 0.0476 - val_accuracy: 0.9867\n",
      "Epoch 83/100\n",
      "665/665 [==============================] - ETA: 0s - loss: 0.0695 - accuracy: 0.9777\n",
      "Epoch 83: val_accuracy did not improve from 0.99336\n",
      "665/665 [==============================] - 131s 198ms/step - loss: 0.0695 - accuracy: 0.9777 - val_loss: 0.0378 - val_accuracy: 0.9878\n",
      "Epoch 84/100\n",
      "665/665 [==============================] - ETA: 0s - loss: 0.0795 - accuracy: 0.9752\n",
      "Epoch 84: val_accuracy did not improve from 0.99336\n",
      "665/665 [==============================] - 130s 196ms/step - loss: 0.0795 - accuracy: 0.9752 - val_loss: 0.0433 - val_accuracy: 0.9867\n",
      "Epoch 85/100\n",
      "665/665 [==============================] - ETA: 0s - loss: 0.0741 - accuracy: 0.9761\n",
      "Epoch 85: val_accuracy did not improve from 0.99336\n",
      "665/665 [==============================] - 123s 185ms/step - loss: 0.0741 - accuracy: 0.9761 - val_loss: 0.0387 - val_accuracy: 0.9912\n",
      "Epoch 86/100\n",
      "665/665 [==============================] - ETA: 0s - loss: 0.0733 - accuracy: 0.9762\n",
      "Epoch 86: val_accuracy did not improve from 0.99336\n",
      "665/665 [==============================] - 111s 167ms/step - loss: 0.0733 - accuracy: 0.9762 - val_loss: 0.0274 - val_accuracy: 0.9934\n",
      "Epoch 87/100\n",
      "665/665 [==============================] - ETA: 0s - loss: 0.0763 - accuracy: 0.9751\n",
      "Epoch 87: val_accuracy did not improve from 0.99336\n",
      "665/665 [==============================] - 115s 173ms/step - loss: 0.0763 - accuracy: 0.9751 - val_loss: 0.0436 - val_accuracy: 0.9867\n",
      "Epoch 88/100\n",
      "665/665 [==============================] - ETA: 0s - loss: 0.0692 - accuracy: 0.9764\n",
      "Epoch 88: val_accuracy did not improve from 0.99336\n",
      "665/665 [==============================] - 105s 158ms/step - loss: 0.0692 - accuracy: 0.9764 - val_loss: 0.0524 - val_accuracy: 0.9867\n",
      "Epoch 89/100\n",
      "665/665 [==============================] - ETA: 0s - loss: 0.0663 - accuracy: 0.9785\n",
      "Epoch 89: val_accuracy improved from 0.99336 to 0.99447, saving model to C:\\College\\Subjects\\Sem 6\\Speech Processing\\Project\\Check\n"
     ]
    },
    {
     "name": "stderr",
     "output_type": "stream",
     "text": [
      "WARNING:absl:Found untraced functions such as _jit_compiled_convolution_op, lstm_cell_1_layer_call_fn, lstm_cell_1_layer_call_and_return_conditional_losses, lstm_cell_2_layer_call_fn, lstm_cell_2_layer_call_and_return_conditional_losses while saving (showing 5 of 5). These functions will not be directly callable after loading.\n"
     ]
    },
    {
     "name": "stdout",
     "output_type": "stream",
     "text": [
      "INFO:tensorflow:Assets written to: C:\\College\\Subjects\\Sem 6\\Speech Processing\\Project\\Check\\assets\n"
     ]
    },
    {
     "name": "stderr",
     "output_type": "stream",
     "text": [
      "INFO:tensorflow:Assets written to: C:\\College\\Subjects\\Sem 6\\Speech Processing\\Project\\Check\\assets\n"
     ]
    },
    {
     "name": "stdout",
     "output_type": "stream",
     "text": [
      "665/665 [==============================] - 141s 212ms/step - loss: 0.0663 - accuracy: 0.9785 - val_loss: 0.0231 - val_accuracy: 0.9945\n",
      "Epoch 90/100\n",
      "665/665 [==============================] - ETA: 0s - loss: 0.0651 - accuracy: 0.9778\n",
      "Epoch 90: val_accuracy did not improve from 0.99447\n",
      "665/665 [==============================] - 102s 153ms/step - loss: 0.0651 - accuracy: 0.9778 - val_loss: 0.0295 - val_accuracy: 0.9912\n",
      "Epoch 91/100\n",
      "665/665 [==============================] - ETA: 0s - loss: 0.0774 - accuracy: 0.9748\n",
      "Epoch 91: val_accuracy did not improve from 0.99447\n",
      "665/665 [==============================] - 108s 162ms/step - loss: 0.0774 - accuracy: 0.9748 - val_loss: 0.0218 - val_accuracy: 0.9923\n",
      "Epoch 92/100\n",
      "665/665 [==============================] - ETA: 0s - loss: 0.0617 - accuracy: 0.9813\n",
      "Epoch 92: val_accuracy did not improve from 0.99447\n",
      "665/665 [==============================] - 99s 148ms/step - loss: 0.0617 - accuracy: 0.9813 - val_loss: 0.0221 - val_accuracy: 0.9934\n",
      "Epoch 93/100\n",
      "665/665 [==============================] - ETA: 0s - loss: 0.0637 - accuracy: 0.9778\n",
      "Epoch 93: val_accuracy did not improve from 0.99447\n",
      "665/665 [==============================] - 106s 159ms/step - loss: 0.0637 - accuracy: 0.9778 - val_loss: 0.0273 - val_accuracy: 0.9900\n",
      "Epoch 94/100\n",
      "665/665 [==============================] - ETA: 0s - loss: 0.0591 - accuracy: 0.9802\n",
      "Epoch 94: val_accuracy did not improve from 0.99447\n",
      "665/665 [==============================] - 103s 155ms/step - loss: 0.0591 - accuracy: 0.9802 - val_loss: 0.0327 - val_accuracy: 0.9912\n",
      "Epoch 95/100\n",
      "665/665 [==============================] - ETA: 0s - loss: 0.0651 - accuracy: 0.9788\n",
      "Epoch 95: val_accuracy did not improve from 0.99447\n",
      "665/665 [==============================] - 101s 152ms/step - loss: 0.0651 - accuracy: 0.9788 - val_loss: 0.0303 - val_accuracy: 0.9889\n",
      "Epoch 96/100\n",
      "665/665 [==============================] - ETA: 0s - loss: 0.0696 - accuracy: 0.9774\n",
      "Epoch 96: val_accuracy did not improve from 0.99447\n",
      "665/665 [==============================] - 104s 156ms/step - loss: 0.0696 - accuracy: 0.9774 - val_loss: 0.0343 - val_accuracy: 0.9889\n",
      "Epoch 97/100\n",
      "665/665 [==============================] - ETA: 0s - loss: 0.0542 - accuracy: 0.9823\n",
      "Epoch 97: val_accuracy did not improve from 0.99447\n",
      "665/665 [==============================] - 101s 151ms/step - loss: 0.0542 - accuracy: 0.9823 - val_loss: 0.0310 - val_accuracy: 0.9900\n",
      "Epoch 98/100\n",
      "665/665 [==============================] - ETA: 0s - loss: 0.0617 - accuracy: 0.9809\n",
      "Epoch 98: val_accuracy did not improve from 0.99447\n",
      "665/665 [==============================] - 106s 160ms/step - loss: 0.0617 - accuracy: 0.9809 - val_loss: 0.0414 - val_accuracy: 0.9845\n",
      "Epoch 99/100\n",
      "665/665 [==============================] - ETA: 0s - loss: 0.0596 - accuracy: 0.9809\n",
      "Epoch 99: val_accuracy did not improve from 0.99447\n",
      "665/665 [==============================] - 99s 149ms/step - loss: 0.0596 - accuracy: 0.9809 - val_loss: 0.0239 - val_accuracy: 0.9889\n",
      "Epoch 100/100\n",
      "665/665 [==============================] - ETA: 0s - loss: 0.0608 - accuracy: 0.9797\n",
      "Epoch 100: val_accuracy improved from 0.99447 to 0.99558, saving model to C:\\College\\Subjects\\Sem 6\\Speech Processing\\Project\\Check\n"
     ]
    },
    {
     "name": "stderr",
     "output_type": "stream",
     "text": [
      "WARNING:absl:Found untraced functions such as _jit_compiled_convolution_op, lstm_cell_1_layer_call_fn, lstm_cell_1_layer_call_and_return_conditional_losses, lstm_cell_2_layer_call_fn, lstm_cell_2_layer_call_and_return_conditional_losses while saving (showing 5 of 5). These functions will not be directly callable after loading.\n"
     ]
    },
    {
     "name": "stdout",
     "output_type": "stream",
     "text": [
      "INFO:tensorflow:Assets written to: C:\\College\\Subjects\\Sem 6\\Speech Processing\\Project\\Check\\assets\n"
     ]
    },
    {
     "name": "stderr",
     "output_type": "stream",
     "text": [
      "INFO:tensorflow:Assets written to: C:\\College\\Subjects\\Sem 6\\Speech Processing\\Project\\Check\\assets\n"
     ]
    },
    {
     "name": "stdout",
     "output_type": "stream",
     "text": [
      "665/665 [==============================] - 138s 208ms/step - loss: 0.0608 - accuracy: 0.9797 - val_loss: 0.0199 - val_accuracy: 0.9956\n"
     ]
    }
   ],
   "source": [
    "from tensorflow.keras.callbacks import EarlyStopping, ModelCheckpoint\n",
    "import matplotlib.pyplot as plt\n",
    "import os\n",
    "\n",
    "# === Callbacks ===\n",
    "checkpoint_path = r\"C:\\College\\Subjects\\Sem 6\\Speech Processing\\Project\\Check\"\n",
    "\n",
    "callbacks = [\n",
    "    EarlyStopping(monitor='val_loss', patience=20, restore_best_weights=True, verbose=1),\n",
    "    ModelCheckpoint(checkpoint_path, monitor='val_accuracy', save_best_only=True, verbose=1)\n",
    "]\n",
    "\n",
    "\n",
    "# === Train the model ===\n",
    "history = model.fit(\n",
    "    X_train, y_train_cat,\n",
    "    validation_data=(X_val, y_val_cat),\n",
    "    epochs=100,\n",
    "    batch_size=32,\n",
    "    callbacks=callbacks\n",
    ")\n"
   ]
  },
  {
   "cell_type": "markdown",
   "id": "d8b7dde9-35e5-4b65-8ff4-7e44adaf780b",
   "metadata": {},
   "source": [
    "# Results"
   ]
  },
  {
   "cell_type": "code",
   "execution_count": 16,
   "id": "f2868a8b-34ff-4ac0-aeee-47ccf44f0fd8",
   "metadata": {},
   "outputs": [],
   "source": [
    "# Load test data"
   ]
  },
  {
   "cell_type": "code",
   "execution_count": 19,
   "id": "55d0338d-f63a-4afd-bdec-863df72b6581",
   "metadata": {},
   "outputs": [
    {
     "data": {
      "image/png": "[encoded data removed]",
      "text/plain": [
       "<Figure size 640x480 with 1 Axes>"
      ]
     },
     "metadata": {},
     "output_type": "display_data"
    },
    {
     "data": {
      "image/png": "[encoded data removed]",
      "text/plain": [
       "<Figure size 640x480 with 1 Axes>"
      ]
     },
     "metadata": {},
     "output_type": "display_data"
    }
   ],
   "source": [
    "import matplotlib.pyplot as plt\n",
    "\n",
    "plt.plot(history.history['accuracy'], label='Train Acc')\n",
    "plt.plot(history.history['val_accuracy'], label='Val Acc')\n",
    "plt.title(\"Model Accuracy\")\n",
    "plt.xlabel(\"Epoch\")\n",
    "plt.ylabel(\"Accuracy\")\n",
    "plt.legend()\n",
    "plt.grid()\n",
    "plt.show()\n",
    "\n",
    "plt.plot(history.history['loss'], label='Train Loss')\n",
    "plt.plot(history.history['val_loss'], label='Val Loss')\n",
    "plt.title(\"Model Loss\")\n",
    "plt.xlabel(\"Epoch\")\n",
    "plt.ylabel(\"Loss\")\n",
    "plt.legend()\n",
    "plt.grid()\n",
    "plt.show()\n"
   ]
  },
  {
   "cell_type": "code",
   "execution_count": 21,
   "id": "0538b9c4-d566-4eec-988d-2992b0085347",
   "metadata": {},
   "outputs": [],
   "source": [
    "import os\n",
    "import numpy as np\n",
    "\n",
    "# === Step 1: Load test features and labels ===\n",
    "def load_data_from_directory(split_dir, class_names):\n",
    "    X = []\n",
    "    y = []\n",
    "    label_map = {name: idx for idx, name in enumerate(class_names)}\n",
    "    \n",
    "    for raga in class_names:\n",
    "        raga_dir = os.path.join(split_dir, raga)\n",
    "        if not os.path.isdir(raga_dir):\n",
    "            continue\n",
    "        \n",
    "        for fname in os.listdir(raga_dir):\n",
    "            if fname.endswith('.npy'):\n",
    "                fpath = os.path.join(raga_dir, fname)\n",
    "                X.append(np.load(fpath))\n",
    "                y.append(label_map[raga])\n",
    "    \n",
    "    return np.array(X), np.array(y)\n",
    "\n",
    "# === Define paths ===\n",
    "TEST_DIR = r\"C:\\College\\Subjects\\Sem 6\\Speech Processing\\Project\\Dataset\\Split\\test\"\n",
    "\n",
    "# === Get class names from folder names ===\n",
    "class_names = sorted(os.listdir(TEST_DIR))  # e.g., ['Mohanam', 'Neelambari', ...]\n",
    "\n",
    "# === Load test data ===\n",
    "X_test, y_test = load_data_from_directory(TEST_DIR, class_names)\n"
   ]
  },
  {
   "cell_type": "code",
   "execution_count": 23,
   "id": "7f02c645-060c-4187-abd3-cb85561ef5ec",
   "metadata": {},
   "outputs": [
    {
     "name": "stdout",
     "output_type": "stream",
     "text": [
      "36/36 [==============================] - 6s 83ms/step - loss: 0.0451 - accuracy: 0.9876\n",
      "\n",
      " Test Accuracy: 0.9876\n",
      " Test Loss: 0.0451\n"
     ]
    }
   ],
   "source": [
    "from tensorflow.keras.models import load_model\n",
    "from tensorflow.keras.utils import to_categorical\n",
    "\n",
    "# === Step 2: Load the trained model ===\n",
    "MODEL_PATH = r\"C:\\College\\Subjects\\Sem 6\\Speech Processing\\Project\\Check\"\n",
    "model = load_model(MODEL_PATH)\n",
    "\n",
    "# === One-hot encode the test labels ===\n",
    "num_classes = len(class_names)\n",
    "y_test_cat = to_categorical(y_test, num_classes=num_classes)\n",
    "\n",
    "# === Evaluate on test set ===\n",
    "test_loss, test_acc = model.evaluate(X_test, y_test_cat, verbose=1)\n",
    "print(f\"\\n Test Accuracy: {test_acc:.4f}\")\n",
    "print(f\" Test Loss: {test_loss:.4f}\")\n"
   ]
  },
  {
   "cell_type": "code",
   "execution_count": 31,
   "id": "dab3fdf0-7594-4435-bdca-870c6854b904",
   "metadata": {},
   "outputs": [
    {
     "name": "stdout",
     "output_type": "stream",
     "text": [
      "36/36 [==============================] - 4s 65ms/step\n",
      "\n",
      " Classification Report:\n",
      "\n",
      "                  precision    recall  f1-score   support\n",
      "\n",
      "  Aanda bhairavi       0.98      1.00      0.99       108\n",
      "  Darbari Kanada       0.98      0.97      0.98       116\n",
      "     Hamsadhwani       0.98      1.00      0.99       120\n",
      "         Kalyani       0.99      0.99      0.99       112\n",
      "  Kharaharapriya       0.98      0.99      0.99       120\n",
      " Mayamalavagowla       0.98      1.00      0.99       114\n",
      "         Mohanam       1.00      0.98      0.99       113\n",
      "      Neelambari       0.98      0.98      0.98       122\n",
      "Shankarabharanam       0.99      0.98      0.98        95\n",
      "           Thodi       1.00      0.97      0.99       110\n",
      "\n",
      "        accuracy                           0.99      1130\n",
      "       macro avg       0.99      0.99      0.99      1130\n",
      "    weighted avg       0.99      0.99      0.99      1130\n",
      "\n"
     ]
    }
   ],
   "source": [
    "from sklearn.metrics import classification_report\n",
    "\n",
    "# === Predict class indices ===\n",
    "y_pred = np.argmax(model.predict(X_test), axis=1)\n",
    "\n",
    "# === Print classification report ===\n",
    "print(\"\\n Classification Report:\\n\")\n",
    "print(classification_report(y_test, y_pred, target_names=class_names))\n"
   ]
  },
  {
   "cell_type": "code",
   "execution_count": 33,
   "id": "2443333d-7de1-4b56-b137-d79ea6a269a9",
   "metadata": {},
   "outputs": [
    {
     "name": "stderr",
     "output_type": "stream",
     "text": [
      "C:\\Users\\knlak\\AppData\\Local\\Temp\\ipykernel_1960\\575834734.py:18: UserWarning: Glyph 128201 (\\N{CHART WITH DOWNWARDS TREND}) missing from font(s) DejaVu Sans.\n",
      "  plt.tight_layout()\n",
      "C:\\College\\AIE\\envs\\gpu_env\\lib\\site-packages\\IPython\\core\\pylabtools.py:152: UserWarning: Glyph 128201 (\\N{CHART WITH DOWNWARDS TREND}) missing from font(s) DejaVu Sans.\n",
      "  fig.canvas.print_figure(bytes_io, **kw)\n"
     ]
    },
    {
     "data": {
      "image/png": "[encoded data removed]",
      "text/plain": [
       "<Figure size 1000x800 with 2 Axes>"
      ]
     },
     "metadata": {},
     "output_type": "display_data"
    }
   ],
   "source": [
    "from sklearn.metrics import confusion_matrix\n",
    "import seaborn as sns\n",
    "import matplotlib.pyplot as plt\n",
    "\n",
    "# === Step 4: Compute confusion matrix ===\n",
    "cm = confusion_matrix(y_test, y_pred) \n",
    "# === Plot confusion matrix heatmap ===\n",
    "plt.figure(figsize=(10, 8))\n",
    "sns.heatmap(cm, annot=True, fmt='d', cmap='Blues',\n",
    "            xticklabels=class_names,\n",
    "            yticklabels=class_names)\n",
    "\n",
    "plt.xlabel(\"Predicted Label\")\n",
    "plt.ylabel(\"True Label\")\n",
    "plt.title(\"📉 Confusion Matrix\")\n",
    "plt.xticks(rotation=45)\n",
    "plt.yticks(rotation=0)\n",
    "plt.tight_layout()\n",
    "plt.show()\n"
   ]
  },
  {
   "cell_type": "code",
   "execution_count": null,
   "id": "854da79b-d52e-4aaa-9513-555d955007c4",
   "metadata": {},
   "outputs": [],
   "source": []
  }
 ],
 "metadata": {
  "kernelspec": {
   "display_name": "Fast",
   "language": "python",
   "name": "gpu_env"
  },
  "language_info": {
   "codemirror_mode": {
    "name": "ipython",
    "version": 3
   },
   "file_extension": ".py",
   "mimetype": "text/x-python",
   "name": "python",
   "nbconvert_exporter": "python",
   "pygments_lexer": "ipython3",
   "version": "3.9.18"
  }
 },
 "nbformat": 4,
 "nbformat_minor": 5
}
